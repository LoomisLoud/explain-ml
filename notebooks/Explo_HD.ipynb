{
 "cells": [
  {
   "cell_type": "markdown",
   "metadata": {},
   "source": [
    "# Explaining maching learning\n",
    "You can find in this notebook the exploratory data analysis done over the heart disease dataset, coupled with the simple machine learning algorithm used to predict the diseases.\n",
    "\n",
    "## Plan\n",
    "1. Introduction\n",
    "  1. What are we going to explain here\n",
    "    1. Explain AI/ML\n",
    "    2. Not a tutorial, un exemple concret tout public de à quoi ça pourrait servir\n",
    "    3. Essayer d'expliquer le taff d'un DS pour les gens qu'on connait et ceux interessés en general\n",
    "  2. Why do we need to talk about AI in general\n",
    "    1. Future\n",
    "    2. Generic term needs to be addressed\n",
    "    3. See the good side\n",
    "2. What is a Data Scientist\n",
    "  1. Work with data\n",
    "  2. Data Analysis\n",
    "  2. create models\n",
    "  3. communicate\n",
    "3. Example dataset\n",
    "  1. Explaining the dataset and the goal\n",
    "  2. A few statistics/plots\n",
    "  3. Predicting the heart disease\n",
    "  4. Explaining results\n",
    "4. Communicating results to business/boss\n",
    "  1. Presenting the example's results\n",
    "  2. Another level of abstraction ?\n",
    "5. (OPT) Cleaning codebase/Explaining why we would need another language\n",
    "6. Conclusions, pointing to the notebook."
   ]
  },
  {
   "cell_type": "code",
   "execution_count": null,
   "metadata": {},
   "outputs": [],
   "source": [
    "import pandas as pd\n",
    "import numpy as np\n",
    "import matplotlib.pyplot as plt\n",
    "import seaborn as sns\n",
    "import sklearn\n",
    "%config InlineBackend.figure_format = 'retina'\n",
    "pd.set_option('display.max_columns', 500)"
   ]
  },
  {
   "cell_type": "markdown",
   "metadata": {},
   "source": [
    "## Dataset fields description\n",
    "1. age: age in years\n",
    "2. sex: sex (1 = male; 0 = female)\n",
    "3. cp: chest pain type\n",
    "    - Value 1: typical angina\n",
    "    - Value 2: atypical angina\n",
    "    - Value 3: non-anginal pain\n",
    "    - Value 4: asymptomatic\n",
    "4. trestbps: resting blood pressure (in mm Hg on admission to the \n",
    "    hospital)\n",
    "5. chol: serum cholestoral in mg/dl\n",
    "6. fbs: (fasting blood sugar > 120 mg/dl)  (1 = true; 0 = false)\n",
    "7. restecg: resting electrocardiographic results\n",
    "    - Value 0: normal\n",
    "    - Value 1: having ST-T wave abnormality (T wave inversions and/or ST elevation or depression of > 0.05 mV)\n",
    "    - Value 2: showing probable or definite left ventricular hypertrophy by Estes' criteria\n",
    "8. thalach: maximum heart rate achieved\n",
    "9. exang: exercise induced angina (1 = yes; 0 = no)\n",
    "10. oldpeak = ST depression induced by exercise relative to rest\n",
    "11. slope: the slope of the peak exercise ST segment\n",
    "    - Value 1: upsloping\n",
    "    - Value 2: flat\n",
    "    - Value 3: downsloping\n",
    "12. ca: number of major vessels (0-3) colored by flourosopy\n",
    "13. thal: 3 = normal; 6 = fixed defect; 7 = reversable defect\n",
    "14. num: diagnosis of heart disease (angiographic disease status)\n",
    "    - Value 0: < 50% diameter narrowing\n",
    "    - Value 1: > 50% diameter narrowing\n",
    "    (in any major vessel: attributes 59 through 68 are vessels)"
   ]
  },
  {
   "cell_type": "code",
   "execution_count": null,
   "metadata": {
    "scrolled": true
   },
   "outputs": [],
   "source": [
    "heart_df = pd.read_csv(\"../data/heart-disease/processed.cleveland.data\", delimiter=\",\",\n",
    "            names=[\"age\", \"sex\", \"cp\", \"trestbps\", \"chol\", \"fbs\", \"restecg\",\n",
    "                    \"thalach\", \"exang\", \"oldpeak\", \"slope\", \"ca\", \"thal\", \"num\"])\n",
    "heart_df = heart_df.rename(columns={\"cp\":\"chest_pain\",\n",
    "                         \"thalach\":\"max_heart_rate\",\n",
    "                         \"oldpeak\":\"st_dep_induced\",\n",
    "                         \"ca\":\"num_maj_ves\"})\n",
    "\n",
    "heart_df['num_bin'] = heart_df['num'].apply(lambda x: 1 if x > 0 else 0)\n",
    "\n",
    "heart_df_noncat = heart_df.copy()\n",
    "\n",
    "heart_df[[\"sex\", \"chest_pain\", \"fbs\",\n",
    "          \"restecg\", \"exang\", \"slope\",\n",
    "          \"num_maj_ves\", \"thal\", \"num\", \"num_bin\"]] = heart_df[[\"sex\", \"chest_pain\", \"fbs\", \"restecg\", \"exang\", \"slope\", \"num_maj_ves\", \"thal\", \"num\", \"num_bin\"]].apply(lambda x:x.astype('category'))\n",
    "\n",
    "heart_df_noncat.head()"
   ]
  },
  {
   "cell_type": "markdown",
   "metadata": {},
   "source": [
    "## Statistical exploratory analysis"
   ]
  },
  {
   "cell_type": "code",
   "execution_count": null,
   "metadata": {},
   "outputs": [],
   "source": [
    "heart_df.describe()"
   ]
  },
  {
   "cell_type": "markdown",
   "metadata": {},
   "source": [
    "### Plotting the dataset"
   ]
  },
  {
   "cell_type": "code",
   "execution_count": null,
   "metadata": {
    "scrolled": true
   },
   "outputs": [],
   "source": [
    "fig, ax = plt.subplots(nrows=8, ncols=2, figsize=(10, 25))\n",
    "ax = ax.reshape(-1)\n",
    "plt.subplots_adjust(wspace=0.4, hspace=0.5)\n",
    "for i, col in enumerate(heart_df.select_dtypes(exclude=\"category\").columns):\n",
    "    sns.kdeplot(heart_df[col], ax=ax[i])\n",
    "    ax[i].set_xlabel(col)\n",
    "for i, col in enumerate(heart_df.select_dtypes(include=\"category\").columns):\n",
    "    i += 5\n",
    "    sns.countplot(x=col, data=heart_df, ax=ax[i])\n",
    "    ax[i].set_xlabel(col)\n",
    "    ax[i].set_ylabel(\"count\")"
   ]
  },
  {
   "cell_type": "code",
   "execution_count": null,
   "metadata": {
    "scrolled": false
   },
   "outputs": [],
   "source": [
    "pd.plotting.scatter_matrix(heart_df_noncat, alpha = 0.3, figsize = (15,15), diagonal = 'kde');"
   ]
  },
  {
   "cell_type": "code",
   "execution_count": null,
   "metadata": {
    "scrolled": false
   },
   "outputs": [],
   "source": [
    "correlation = heart_df_noncat.corr(min_periods=10)\n",
    "plt.figure(figsize=(15, 13))\n",
    "heatmap = sns.heatmap(correlation, annot=True, linewidths=0, vmin=-1, cmap=\"RdBu_r\")"
   ]
  }
 ],
 "metadata": {
  "kernelspec": {
   "display_name": "Python 3",
   "language": "python",
   "name": "python3"
  },
  "language_info": {
   "codemirror_mode": {
    "name": "ipython",
    "version": 3
   },
   "file_extension": ".py",
   "mimetype": "text/x-python",
   "name": "python",
   "nbconvert_exporter": "python",
   "pygments_lexer": "ipython3",
   "version": "3.6.6"
  }
 },
 "nbformat": 4,
 "nbformat_minor": 2
}
