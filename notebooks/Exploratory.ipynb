{
 "cells": [
  {
   "cell_type": "markdown",
   "metadata": {},
   "source": [
    "# Explaining maching learning\n",
    "You can find in this notebook the exploratory data analysis done over the heart disease dataset, coupled with the simple machine learning algorithm used to predict the diseases.\n",
    "\n",
    "## Plan\n",
    "1. Introduction\n",
    "  1. What are we going to explain here\n",
    "  2. Why do we need to talk about AI in general\n",
    "  3. What we will try to do here\n",
    "2. What is a Data Scientist\n",
    "3. Example dataset\n",
    "  1. Explaining the dataset and the goal\n",
    "  2. A few statistics/plots\n",
    "  3. Predicting the heart disease\n",
    "  4. Explaining results\n",
    "4. Communicating results to business/boss\n",
    "5. Cleaning codebase/Explaining why we would need another language\n",
    "6. Conclusions, pointing to the notebook."
   ]
  },
  {
   "cell_type": "code",
   "execution_count": null,
   "metadata": {},
   "outputs": [],
   "source": [
    "import pandas as pd\n",
    "import numpy as np\n",
    "import matplotlib.pyplot as plt\n",
    "import seaborn as sns\n",
    "import sklearn\n",
    "%config InlineBackend.figure_format = 'retina'\n",
    "pd.set_option('display.max_columns', 500)"
   ]
  },
  {
   "cell_type": "markdown",
   "metadata": {},
   "source": [
    "## Dataset fields description\n",
    "1. age: age in years\n",
    "2. sex: sex (1 = male; 0 = female)\n",
    "3. cp: chest pain type\n",
    "    - Value 1: typical angina\n",
    "    - Value 2: atypical angina\n",
    "    - Value 3: non-anginal pain\n",
    "    - Value 4: asymptomatic\n",
    "4. trestbps: resting blood pressure (in mm Hg on admission to the \n",
    "    hospital)\n",
    "5. chol: serum cholestoral in mg/dl\n",
    "6. fbs: (fasting blood sugar > 120 mg/dl)  (1 = true; 0 = false)\n",
    "7. restecg: resting electrocardiographic results\n",
    "    - Value 0: normal\n",
    "    - Value 1: having ST-T wave abnormality (T wave inversions and/or ST elevation or depression of > 0.05 mV)\n",
    "    - Value 2: showing probable or definite left ventricular hypertrophy by Estes' criteria\n",
    "8. thalach: maximum heart rate achieved\n",
    "9. exang: exercise induced angina (1 = yes; 0 = no)\n",
    "10. oldpeak = ST depression induced by exercise relative to rest\n",
    "11. slope: the slope of the peak exercise ST segment\n",
    "    - Value 1: upsloping\n",
    "    - Value 2: flat\n",
    "    - Value 3: downsloping\n",
    "12. ca: number of major vessels (0-3) colored by flourosopy\n",
    "13. thal: 3 = normal; 6 = fixed defect; 7 = reversable defect\n",
    "14. num: diagnosis of heart disease (angiographic disease status)\n",
    "    - Value 0: < 50% diameter narrowing\n",
    "    - Value 1: > 50% diameter narrowing\n",
    "    (in any major vessel: attributes 59 through 68 are vessels)"
   ]
  },
  {
   "cell_type": "code",
   "execution_count": null,
   "metadata": {
    "scrolled": true
   },
   "outputs": [],
   "source": [
    "heart_df = pd.read_csv(\"../data/heart-disease/processed.cleveland.data\", delimiter=\",\",\n",
    "            names=[\"age\", \"sex\", \"cp\", \"trestbps\", \"chol\", \"fbs\", \"restecg\",\n",
    "                    \"thalach\", \"exang\", \"oldpeak\", \"slope\", \"ca\", \"thal\", \"num\"])\n",
    "heart_df = heart_df.rename(columns={\"cp\":\"chest_pain\",\n",
    "                         \"thalach\":\"max_heart_rate\",\n",
    "                         \"oldpeak\":\"st_dep_induced\",\n",
    "                         \"ca\":\"num_maj_ves\"})\n",
    "heart_df[[\"sex\", \"chest_pain\", \"fbs\",\n",
    "          \"restecg\", \"exang\", \"slope\",\n",
    "          \"num_maj_ves\", \"thal\", \"num\"]] = heart_df[[\"sex\", \"chest_pain\", \"fbs\", \"restecg\", \"exang\", \"slope\", \"num_maj_ves\", \"thal\", \"num\"]].apply(lambda x:x.astype('category'))\n",
    "\n",
    "heart_df.head()"
   ]
  },
  {
   "cell_type": "markdown",
   "metadata": {},
   "source": [
    "## Statistical exploratory analysis"
   ]
  },
  {
   "cell_type": "code",
   "execution_count": null,
   "metadata": {},
   "outputs": [],
   "source": [
    "heart_df.describe()"
   ]
  },
  {
   "cell_type": "markdown",
   "metadata": {},
   "source": [
    "### Plotting the dataset"
   ]
  },
  {
   "cell_type": "code",
   "execution_count": null,
   "metadata": {},
   "outputs": [],
   "source": [
    "fig, ax = plt.subplots(nrows=7, ncols=2, figsize=(10, 25))\n",
    "ax = ax.reshape(-1)\n",
    "plt.subplots_adjust(wspace=0.4, hspace=0.5)\n",
    "for i, col in enumerate(heart_df.select_dtypes(exclude=\"category\").columns):\n",
    "    sns.kdeplot(heart_df[col], ax=ax[i])\n",
    "    ax[i].set_xlabel(col)\n",
    "for i, col in enumerate(heart_df.select_dtypes(include=\"category\").columns):\n",
    "    i += 5\n",
    "    sns.countplot(x=col, data=heart_df, ax=ax[i])\n",
    "    ax[i].set_xlabel(col)\n",
    "    ax[i].set_ylabel(\"count\")"
   ]
  },
  {
   "cell_type": "markdown",
   "metadata": {},
   "source": [
    "## Parkinsons dataset\n",
    "### Attribute Information\n",
    "\n",
    "##### Training sample information\n",
    "Each subject has 26 voice samples including sustained vowels, numbers, words and short sentences. The voice samples in the training data file are given in the following order:\n",
    "\n",
    "1: sustained vowel (aaaâ€¦â€¦)\n",
    "\n",
    "2: sustained vowel (oooâ€¦...)\n",
    "\n",
    "3: sustained vowel (uuuâ€¦...)\n",
    "\n",
    "4-13: numbers from 1 to 10\n",
    "\n",
    "14-17: short sentences\n",
    "\n",
    "18-26: words\n",
    "\n",
    "##### Testing sample information\n",
    "28 PD patients are asked to say only the sustained vowels 'a' and 'o' three times respectively which makes a total of 168 recordings (each subject has 6 voice samples) The voice samples in the test data file are given in the following order:\n",
    "\n",
    "1-3: sustained vowel (aaaâ€¦â€¦)\n",
    "\n",
    "4-6: sustained vowel (oooâ€¦â€¦) \n",
    "\n",
    "##### Training Data File\n",
    "\n",
    "column 1: Subject id\n",
    "\n",
    "column 2-27: features\n",
    "\n",
    "features 1-5: Jitter (local), Jitter (local, absolute), Jitter (rap), Jitter (ppq5), Jitter (ddp)\n",
    "\n",
    "features 6-11: Shimmer (local), Shimmer (local, dB), Shimmer (apq3), Shimmer (apq5), Shimmer (apq11), Shimmer (dda)\n",
    "\n",
    "features 12-14: AC, NTH, HTN\n",
    "\n",
    "features 15-19: Median pitch, Mean pitch, Standard deviation, Minimum pitch, Maximum pitch\n",
    "\n",
    "features 20-23: Number of pulses, Number of periods, Mean period, Standard deviation of period\n",
    "\n",
    "features 24-26: Fraction of locally unvoiced frames, Number of voice breaks, Degree of voice breaks\n",
    "\n",
    "column 28: UPDRS (Unified Parkinson's Disease Rating Scale)\n",
    "\n",
    "column 29: class information\n",
    "\n",
    "##### Test Data File\n",
    "\n",
    "column 1: Subject id\n",
    "\n",
    "column 2-27: same features\n",
    "\n",
    "column 28: class information "
   ]
  },
  {
   "cell_type": "code",
   "execution_count": null,
   "metadata": {
    "scrolled": true
   },
   "outputs": [],
   "source": [
    "park_df = pd.read_csv('../data/parkinson/train_data.txt',\n",
    "                      delimiter=',',\n",
    "                      header=None)\n",
    "\n",
    "park_df = park_df.rename(columns={0:\"subject_id\",\n",
    "                         28:\"class\",\n",
    "                         27:\"UPDRS\"})\n",
    "\n",
    "park_df.set_index(\"subject_id\", inplace=True)\n",
    "park_df"
   ]
  },
  {
   "cell_type": "markdown",
   "metadata": {},
   "source": [
    "## Census-Income (KDD) Data Set\n",
    "#### Data description\n",
    "\n",
    "1.   91 distinct values for attribute #0 (age) continuous\n",
    "2.    9 distinct values for attribute #1 (class of worker) nominal\n",
    "3.   52 distinct values for attribute #2 (detailed industry recode) nominal\n",
    "4.   47 distinct values for attribute #3 (detailed occupation recode) nominal\n",
    "5.   17 distinct values for attribute #4 (education) nominal\n",
    "6. 1240 distinct values for attribute #5 (wage per hour) continuous\n",
    "7.    3 distinct values for attribute #6 (enroll in edu inst last wk) nominal\n",
    "8.    7 distinct values for attribute #7 (marital stat) nominal\n",
    "9.   24 distinct values for attribute #8 (major industry code) nominal\n",
    "10.   15 distinct values for attribute #9 (major occupation code) nominal\n",
    "11.    5 distinct values for attribute #10 (race) nominal\n",
    "12.   10 distinct values for attribute #11 (hispanic origin) nominal\n",
    "13.    2 distinct values for attribute #12 (sex) nominal\n",
    "14.    3 distinct values for attribute #13 (member of a labor union) nominal\n",
    "15.    6 distinct values for attribute #14 (reason for unemployment) nominal\n",
    "16.    8 distinct values for attribute #15 (full or part time employment stat) nominal\n",
    "17.  132 distinct values for attribute #16 (capital gains) continuous\n",
    "18.  113 distinct values for attribute #17 (capital losses) continuous\n",
    "19. 1478 distinct values for attribute #18 (dividends from stocks) continuous\n",
    "20.    6 distinct values for attribute #19 (tax filer stat) nominal\n",
    "21.    6 distinct values for attribute #20 (region of previous residence) nominal\n",
    "22.   51 distinct values for attribute #21 (state of previous residence) nominal\n",
    "23.   38 distinct values for attribute #22 (detailed household and family stat) nominal\n",
    "24.    8 distinct values for attribute #23 (detailed household summary in household) nominal\n",
    "25.   10 distinct values for attribute #24 (migration code-change in msa) nominal\n",
    "26.    9 distinct values for attribute #25 (migration code-change in reg) nominal\n",
    "27.   10 distinct values for attribute #26 (migration code-move within reg) nominal\n",
    "28.    3 distinct values for attribute #27 (live in this house 1 year ago) nominal\n",
    "29.    4 distinct values for attribute #28 (migration prev res in sunbelt) nominal\n",
    "30.    7 distinct values for attribute #29 (num persons worked for employer) continuous\n",
    "31.    5 distinct values for attribute #30 (family members under 18) nominal\n",
    "32.   43 distinct values for attribute #31 (country of birth father) nominal\n",
    "33.   43 distinct values for attribute #32 (country of birth mother) nominal\n",
    "34.   43 distinct values for attribute #33 (country of birth self) nominal\n",
    "35.    5 distinct values for attribute #34 (citizenship) nominal\n",
    "36.    3 distinct values for attribute #35 (own business or self employed) nominal\n",
    "37.    3 distinct values for attribute #36 (fill inc questionnaire for veteran's admin) nominal\n",
    "38.    3 distinct values for attribute #37 (veterans benefits) nominal\n",
    "39.   53 distinct values for attribute #38 (weeks worked in year) continuous\n",
    "40.    2 distinct values for attribute #39 (year) nominal"
   ]
  },
  {
   "cell_type": "code",
   "execution_count": null,
   "metadata": {},
   "outputs": [],
   "source": [
    "cols =  [\"age\",\"class of worker\",\"detailed industry recode\",\"detailed occupation recode\",\n",
    "         \"education\",\"wage per hour\",\"enroll in edu inst last wk\",\"marital stat\",\n",
    "         \"major industry code\",\"major occupation code\",\"race\",\"hispanic origin\",\"sex\",\n",
    "         \"member of a labor union\",\"reason for unemployment\",\"full or part time employment stat\",\n",
    "         \"capital gains\",\"capital losses\",\"dividends from stocks\",\"tax filer stat\",\n",
    "         \"region of previous residence\",\"state of previous residence\",\n",
    "         \"detailed household and family stat\",\"detailed household summary in household\", \"instance weight\",\n",
    "         \"migration code-change in msa\",\"migration code-change in reg\",\n",
    "         \"migration code-move within reg\",\"live in this house 1 year ago\",\n",
    "         \"migration prev res in sunbelt\",\"num persons worked for employer\",\n",
    "         \"family members under 18\",\"country of birth father\",\"country of birth mother\",\n",
    "         \"country of birth self\",\"citizenship\",\"own business or self employed\",\n",
    "         \"fill inc questionnaire for veteran's admin\",\"veterans benefits\",\"weeks worked in year\",\n",
    "         \"year\",\"binary class\"]"
   ]
  },
  {
   "cell_type": "code",
   "execution_count": null,
   "metadata": {},
   "outputs": [],
   "source": [
    "census_df = pd.read_csv(\"../data/census/census-income.data\", delimiter=\",\", header=None)\n",
    "census_df.columns = cols\n",
    "census_df.drop(columns='instance weight', axis=1, inplace=True)\n",
    "census_df.head()"
   ]
  }
 ],
 "metadata": {
  "kernelspec": {
   "display_name": "Python 3",
   "language": "python",
   "name": "python3"
  },
  "language_info": {
   "codemirror_mode": {
    "name": "ipython",
    "version": 3
   },
   "file_extension": ".py",
   "mimetype": "text/x-python",
   "name": "python",
   "nbconvert_exporter": "python",
   "pygments_lexer": "ipython3",
   "version": "3.6.4"
  }
 },
 "nbformat": 4,
 "nbformat_minor": 2
}
